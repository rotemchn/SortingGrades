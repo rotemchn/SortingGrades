{
 "cells": [
  {
   "cell_type": "code",
   "outputs": [],
   "source": [
    "# !pip install numpy\n",
    "# !pip install pandas\n",
    "# !pip install csv\n",
    "# !pip install matplotlib\n",
    "# !pip install seaborn\n",
    "# !pip install tqdm"
   ],
   "metadata": {
    "collapsed": false,
    "ExecuteTime": {
     "end_time": "2024-04-03T19:03:03.386411400Z",
     "start_time": "2024-04-03T19:03:03.360535600Z"
    }
   },
   "id": "2e7af30c474b85fa",
   "execution_count": 2
  },
  {
   "cell_type": "code",
   "outputs": [],
   "source": [
    "# !pip install --upgrade pip"
   ],
   "metadata": {
    "collapsed": false,
    "ExecuteTime": {
     "end_time": "2024-04-03T19:03:03.388513500Z",
     "start_time": "2024-04-03T19:03:03.371950500Z"
    }
   },
   "id": "793da7f8776731d2",
   "execution_count": 3
  },
  {
   "cell_type": "markdown",
   "source": [
    "Imports"
   ],
   "metadata": {
    "collapsed": false
   },
   "id": "2a121209c6d92259"
  },
  {
   "cell_type": "code",
   "outputs": [],
   "source": [
    "import numpy as np\n",
    "import pandas as pd\n",
    "import matplotlib.pyplot as plt\n",
    "from tqdm import tqdm\n",
    "import seaborn as sns\n",
    "import pickle"
   ],
   "metadata": {
    "collapsed": true,
    "ExecuteTime": {
     "end_time": "2024-04-04T18:13:31.344946300Z",
     "start_time": "2024-04-04T18:13:30.405165Z"
    }
   },
   "id": "initial_id",
   "execution_count": 25
  },
  {
   "cell_type": "markdown",
   "source": [
    "Get dataframes"
   ],
   "metadata": {
    "collapsed": false
   },
   "id": "42a2738363c6c55d"
  },
  {
   "cell_type": "code",
   "outputs": [],
   "source": [
    "from data.read_data import *\n",
    "students = get_Students()\n",
    "random_square_df = get_square_df()\n",
    "random_rhombus_df = get_rhombus_df()\n",
    "random_circle_df = get_circle_df()"
   ],
   "metadata": {
    "collapsed": false,
    "ExecuteTime": {
     "end_time": "2024-04-04T15:36:53.354172200Z",
     "start_time": "2024-04-04T15:36:52.436644600Z"
    }
   },
   "id": "a5ee4048fd65226f",
   "execution_count": 7
  },
  {
   "cell_type": "markdown",
   "source": [
    "Load the ‘piles’ if we already computed them using RSK algorithm:"
   ],
   "metadata": {
    "collapsed": false
   },
   "id": "d555fb6a02451757"
  },
  {
   "cell_type": "code",
   "outputs": [],
   "source": [
    "with open('data/RSK_piles_circle.pkl', 'rb') as f:\n",
    "    circle_piles = pickle.load(f)\n",
    "with open('data/RSK_piles_real_students.pkl', 'rb') as f:\n",
    "    piles = pickle.load(f)\n",
    "with open('data/RSK_piles_square.pkl', 'rb') as f:\n",
    "    square_piles = pickle.load(f)\n",
    "with open('data/RSK_piles_rhombus.pkl', 'rb') as f:\n",
    "    rhombus_piles = pickle.load(f)"
   ],
   "metadata": {
    "collapsed": false
   },
   "id": "54aea2ea6fd3997a"
  },
  {
   "cell_type": "code",
   "outputs": [],
   "source": [
    "def check_sorted(arr):\n",
    "    for i in range(1, len(arr)):\n",
    "        if arr[i][1] < arr[i-1][1]:\n",
    "            print(i)\n",
    "            return False\n",
    "    return True"
   ],
   "metadata": {
    "collapsed": false,
    "ExecuteTime": {
     "end_time": "2024-04-04T15:37:00.105255300Z",
     "start_time": "2024-04-04T15:37:00.085108700Z"
    }
   },
   "id": "295ca037d9ae2bee",
   "execution_count": 8
  },
  {
   "cell_type": "markdown",
   "source": [
    "RSK algorithm"
   ],
   "metadata": {
    "collapsed": false
   },
   "id": "1898aa9792d336a4"
  },
  {
   "cell_type": "code",
   "outputs": [],
   "source": [
    "def insert_to_pile(element, pile):\n",
    "    # enter element to the sorted array \"pile\", and return the next element\n",
    "    low = 0\n",
    "    high = len(pile)-1\n",
    "    while low <= high: # binary search\n",
    "        mid = (low+high)//2\n",
    "        if pile[mid][1] <= element[1]:\n",
    "            low = mid + 1\n",
    "        else:\n",
    "            high = mid - 1\n",
    "    pile.insert(low, element) # insert element\n",
    "    next_element = pile.pop(low + 1)  # remove and return the next element for RSK\n",
    "    return next_element"
   ],
   "metadata": {
    "collapsed": false,
    "ExecuteTime": {
     "end_time": "2024-04-04T15:37:02.059815600Z",
     "start_time": "2024-04-04T15:37:02.048760800Z"
    }
   },
   "id": "ad52b428391ca536",
   "execution_count": 9
  },
  {
   "cell_type": "code",
   "outputs": [],
   "source": [
    "def RSK(df):\n",
    "    df = df.sort_values(by=df.columns[0])\n",
    "    df = df.reset_index(drop = True)\n",
    "    piles = []\n",
    "    for i in tqdm(range(df.shape[0])):\n",
    "        if not piles:\n",
    "            piles.append([df.iloc[i]])\n",
    "        else:\n",
    "            flag = True\n",
    "            element = df.iloc[i] # first element to add to piles\n",
    "            for pile in piles:\n",
    "                if element[1] >= pile[-1][1]:\n",
    "                    pile.append(element)\n",
    "                    flag = False\n",
    "                    break\n",
    "                else:\n",
    "                    element = insert_to_pile(element, pile)\n",
    "            if flag:\n",
    "                piles.append([element])\n",
    "    return piles       "
   ],
   "metadata": {
    "collapsed": false,
    "ExecuteTime": {
     "end_time": "2024-04-04T15:37:05.802982100Z",
     "start_time": "2024-04-04T15:37:05.783436300Z"
    }
   },
   "id": "a2b793724ac7d958",
   "execution_count": 10
  },
  {
   "cell_type": "code",
   "outputs": [],
   "source": [
    "def plot_piles(piles, filename, title):\n",
    "    lists_lengths = [len(sublist) for sublist in piles]\n",
    "    list_indices = range(len(piles))\n",
    "    # Create a figure and axes\n",
    "    fig, ax = plt.subplots(figsize=(8, 8))\n",
    "    \n",
    "    # Create a bar plot\n",
    "    ax.bar(list_indices, lists_lengths, color='skyblue', edgecolor='lightblue', label='List Lengths')\n",
    "    \n",
    "    # Create a line plot\n",
    "    ax.plot(list_indices, lists_lengths, color='blue', linestyle='-', label='Line Connects')\n",
    "    \n",
    "    # Set x-axis ticks to match list indices\n",
    "    ax.set_xticks(list_indices)\n",
    "    \n",
    "    # Set labels and title\n",
    "    ax.set_xticks(range(0, len(piles), 100))\n",
    "    ax.set_xlabel('Pile Number')\n",
    "    ax.set_ylabel('Length of Piles')\n",
    "    ax.set_title('RSK Algorithm - ' + title )\n",
    "    ax.grid(False)\n",
    "    plt.savefig(\"plots/png/RSK_\"+ filename +\".png\") # save as png\n",
    "    plt.savefig(\"plots/pdf/RSK_\"+ filename +\".pdf\") # save as pdf\n",
    "    \n",
    "    plt.show()"
   ],
   "metadata": {
    "collapsed": false,
    "ExecuteTime": {
     "end_time": "2024-04-04T17:58:28.642712400Z",
     "start_time": "2024-04-04T17:58:28.620379700Z"
    }
   },
   "id": "77b3631006f269a",
   "execution_count": 16
  },
  {
   "cell_type": "markdown",
   "source": [
    "Performing RSK on different datasets"
   ],
   "metadata": {
    "collapsed": false
   },
   "id": "6e9532abf8321d4c"
  },
  {
   "cell_type": "code",
   "outputs": [
    {
     "name": "stderr",
     "output_type": "stream",
     "text": [
      "100%|██████████| 136939/136939 [14:58<00:00, 152.35it/s]\n"
     ]
    }
   ],
   "source": [
    "piles = RSK(students) # get real students piles"
   ],
   "metadata": {
    "collapsed": false,
    "ExecuteTime": {
     "end_time": "2024-04-04T17:56:35.054593Z",
     "start_time": "2024-04-04T17:41:36.161851700Z"
    }
   },
   "id": "8854ff2d5495b26",
   "execution_count": 14
  },
  {
   "cell_type": "code",
   "outputs": [],
   "source": [
    "square_piles = RSK(random_square_df) # get random square piles"
   ],
   "metadata": {
    "collapsed": false
   },
   "id": "c2684ca18f8bd303"
  },
  {
   "cell_type": "code",
   "outputs": [],
   "source": [
    "rhombus_piles = RSK(random_rhombus_df) # get random rhombus piles"
   ],
   "metadata": {
    "collapsed": false
   },
   "id": "e2d29481b4f4a2a6"
  },
  {
   "cell_type": "code",
   "outputs": [],
   "source": [
    "circle_piles = RSK(random_circle_df) # get random circle piles"
   ],
   "metadata": {
    "collapsed": false
   },
   "id": "fb7dba723fcc6a32"
  },
  {
   "cell_type": "markdown",
   "source": [
    "Save piles into pickle files:"
   ],
   "metadata": {
    "collapsed": false
   },
   "id": "c9459dbfacc1a7c0"
  },
  {
   "cell_type": "code",
   "outputs": [],
   "source": [
    "with open('RSK_piles_real_students.pkl', 'wb') as f:\n",
    "    pickle.dump(piles, f)\n",
    "    \n",
    "with open('RSK_piles_square.pkl', 'wb') as f:\n",
    "    pickle.dump(square_piles, f)\n",
    "    \n",
    "with open('RSK_piles_rhombus.pkl', 'wb') as f:\n",
    "    pickle.dump(rhombus_piles, f)\n",
    "    \n",
    "with open('RSK_piles_circle.pkl', 'wb') as f:\n",
    "    pickle.dump(circle_piles, f)"
   ],
   "metadata": {
    "collapsed": false
   },
   "id": "b36692abbbf7a7a2"
  },
  {
   "cell_type": "markdown",
   "source": [
    "Plot all the piles:"
   ],
   "metadata": {
    "collapsed": false
   },
   "id": "ff0768ea1ac5d7be"
  },
  {
   "cell_type": "code",
   "outputs": [
    {
     "data": {
      "text/plain": "<Figure size 800x800 with 1 Axes>",
      "image/png": "[encoded data removed]"
     },
     "metadata": {},
     "output_type": "display_data"
    }
   ],
   "source": [
    "plot_piles(piles,\"real_students\" ,\"Real Students\") \n",
    "plot_piles(square_piles, \"random_square\", \"Random Square\") \n",
    "plot_piles(rhombus_piles, \"random_rhombus\", \"Random Rhombus\")\n",
    "plot_piles(circle_piles, \"random_circle\", \"Random Circle\")"
   ],
   "metadata": {
    "collapsed": false,
    "ExecuteTime": {
     "end_time": "2024-04-04T17:58:34.900993600Z",
     "start_time": "2024-04-04T17:58:33.147708600Z"
    }
   },
   "id": "f524989da0272f41",
   "execution_count": 17
  }
 ],
 "metadata": {
  "kernelspec": {
   "display_name": "Python 3",
   "language": "python",
   "name": "python3"
  },
  "language_info": {
   "codemirror_mode": {
    "name": "ipython",
    "version": 2
   },
   "file_extension": ".py",
   "mimetype": "text/x-python",
   "name": "python",
   "nbconvert_exporter": "python",
   "pygments_lexer": "ipython2",
   "version": "2.7.6"
  }
 },
 "nbformat": 4,
 "nbformat_minor": 5
}
